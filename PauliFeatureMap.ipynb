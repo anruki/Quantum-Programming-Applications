{
  "nbformat": 4,
  "nbformat_minor": 0,
  "metadata": {
    "colab": {
      "provenance": [],
      "authorship_tag": "ABX9TyNVzytdX6U/dr69rrq6a98q",
      "include_colab_link": true
    },
    "kernelspec": {
      "name": "python3",
      "display_name": "Python 3"
    },
    "language_info": {
      "name": "python"
    }
  },
  "cells": [
    {
      "cell_type": "markdown",
      "metadata": {
        "id": "view-in-github",
        "colab_type": "text"
      },
      "source": [
        "<a href=\"https://colab.research.google.com/github/anruki/Quantum-Programming-Applications/blob/main/PauliFeatureMap.ipynb\" target=\"_parent\"><img src=\"https://colab.research.google.com/assets/colab-badge.svg\" alt=\"Open In Colab\"/></a>"
      ]
    },
    {
      "cell_type": "code",
      "execution_count": 1,
      "metadata": {
        "colab": {
          "base_uri": "https://localhost:8080/"
        },
        "id": "uFf2VlPl7QCk",
        "outputId": "fa48eca5-6170-4678-acd0-b10c160d4034"
      },
      "outputs": [
        {
          "output_type": "stream",
          "name": "stdout",
          "text": [
            "Collecting qiskit\n",
            "  Downloading qiskit-1.2.4-cp38-abi3-manylinux_2_17_x86_64.manylinux2014_x86_64.whl.metadata (12 kB)\n",
            "Collecting rustworkx>=0.15.0 (from qiskit)\n",
            "  Downloading rustworkx-0.15.1-cp38-abi3-manylinux_2_17_x86_64.manylinux2014_x86_64.whl.metadata (9.9 kB)\n",
            "Requirement already satisfied: numpy<3,>=1.17 in /usr/local/lib/python3.10/dist-packages (from qiskit) (1.26.4)\n",
            "Requirement already satisfied: scipy>=1.5 in /usr/local/lib/python3.10/dist-packages (from qiskit) (1.13.1)\n",
            "Requirement already satisfied: sympy>=1.3 in /usr/local/lib/python3.10/dist-packages (from qiskit) (1.13.1)\n",
            "Collecting dill>=0.3 (from qiskit)\n",
            "  Downloading dill-0.3.9-py3-none-any.whl.metadata (10 kB)\n",
            "Requirement already satisfied: python-dateutil>=2.8.0 in /usr/local/lib/python3.10/dist-packages (from qiskit) (2.8.2)\n",
            "Collecting stevedore>=3.0.0 (from qiskit)\n",
            "  Downloading stevedore-5.3.0-py3-none-any.whl.metadata (2.3 kB)\n",
            "Requirement already satisfied: typing-extensions in /usr/local/lib/python3.10/dist-packages (from qiskit) (4.12.2)\n",
            "Collecting symengine<0.14,>=0.11 (from qiskit)\n",
            "  Downloading symengine-0.13.0-cp310-cp310-manylinux_2_17_x86_64.manylinux2014_x86_64.whl.metadata (1.2 kB)\n",
            "Requirement already satisfied: six>=1.5 in /usr/local/lib/python3.10/dist-packages (from python-dateutil>=2.8.0->qiskit) (1.16.0)\n",
            "Collecting pbr>=2.0.0 (from stevedore>=3.0.0->qiskit)\n",
            "  Downloading pbr-6.1.0-py2.py3-none-any.whl.metadata (3.4 kB)\n",
            "Requirement already satisfied: mpmath<1.4,>=1.1.0 in /usr/local/lib/python3.10/dist-packages (from sympy>=1.3->qiskit) (1.3.0)\n",
            "Downloading qiskit-1.2.4-cp38-abi3-manylinux_2_17_x86_64.manylinux2014_x86_64.whl (4.8 MB)\n",
            "\u001b[2K   \u001b[90m━━━━━━━━━━━━━━━━━━━━━━━━━━━━━━━━━━━━━━━━\u001b[0m \u001b[32m4.8/4.8 MB\u001b[0m \u001b[31m35.6 MB/s\u001b[0m eta \u001b[36m0:00:00\u001b[0m\n",
            "\u001b[?25hDownloading dill-0.3.9-py3-none-any.whl (119 kB)\n",
            "\u001b[2K   \u001b[90m━━━━━━━━━━━━━━━━━━━━━━━━━━━━━━━━━━━━━━━━\u001b[0m \u001b[32m119.4/119.4 kB\u001b[0m \u001b[31m7.1 MB/s\u001b[0m eta \u001b[36m0:00:00\u001b[0m\n",
            "\u001b[?25hDownloading rustworkx-0.15.1-cp38-abi3-manylinux_2_17_x86_64.manylinux2014_x86_64.whl (2.0 MB)\n",
            "\u001b[2K   \u001b[90m━━━━━━━━━━━━━━━━━━━━━━━━━━━━━━━━━━━━━━━━\u001b[0m \u001b[32m2.0/2.0 MB\u001b[0m \u001b[31m30.1 MB/s\u001b[0m eta \u001b[36m0:00:00\u001b[0m\n",
            "\u001b[?25hDownloading stevedore-5.3.0-py3-none-any.whl (49 kB)\n",
            "\u001b[2K   \u001b[90m━━━━━━━━━━━━━━━━━━━━━━━━━━━━━━━━━━━━━━━━\u001b[0m \u001b[32m49.7/49.7 kB\u001b[0m \u001b[31m2.0 MB/s\u001b[0m eta \u001b[36m0:00:00\u001b[0m\n",
            "\u001b[?25hDownloading symengine-0.13.0-cp310-cp310-manylinux_2_17_x86_64.manylinux2014_x86_64.whl (49.7 MB)\n",
            "\u001b[2K   \u001b[90m━━━━━━━━━━━━━━━━━━━━━━━━━━━━━━━━━━━━━━━━\u001b[0m \u001b[32m49.7/49.7 MB\u001b[0m \u001b[31m15.9 MB/s\u001b[0m eta \u001b[36m0:00:00\u001b[0m\n",
            "\u001b[?25hDownloading pbr-6.1.0-py2.py3-none-any.whl (108 kB)\n",
            "\u001b[2K   \u001b[90m━━━━━━━━━━━━━━━━━━━━━━━━━━━━━━━━━━━━━━━━\u001b[0m \u001b[32m108.5/108.5 kB\u001b[0m \u001b[31m4.7 MB/s\u001b[0m eta \u001b[36m0:00:00\u001b[0m\n",
            "\u001b[?25hInstalling collected packages: symengine, rustworkx, pbr, dill, stevedore, qiskit\n",
            "Successfully installed dill-0.3.9 pbr-6.1.0 qiskit-1.2.4 rustworkx-0.15.1 stevedore-5.3.0 symengine-0.13.0\n"
          ]
        }
      ],
      "source": [
        "!pip install qiskit"
      ]
    },
    {
      "cell_type": "code",
      "source": [
        "import pandas as pd\n",
        "from sklearn.datasets import load_iris"
      ],
      "metadata": {
        "id": "s2RiBaS27jUM"
      },
      "execution_count": 2,
      "outputs": []
    },
    {
      "cell_type": "markdown",
      "source": [
        "## Descarga del dataset\n",
        "(Solo usamos los datos de Setosa y Versicolor y sus 2 primeras características)"
      ],
      "metadata": {
        "id": "w4WzLoZc7-hM"
      }
    },
    {
      "cell_type": "code",
      "source": [
        "import numpy as np\n",
        "from sklearn.datasets import load_iris\n",
        "from sklearn.preprocessing import MinMaxScaler\n",
        "\n",
        "# Cargar el dataset Iris y seleccionar solo las dos primeras características de las clases 'setosa' y 'versicolor'\n",
        "iris = load_iris()\n",
        "data = iris.data[iris.target < 2, :2]  # Selecciona solo setosa y versicolor, y solo dos primeras columnas\n"
      ],
      "metadata": {
        "id": "-feXctC39b6P"
      },
      "execution_count": 11,
      "outputs": []
    },
    {
      "cell_type": "markdown",
      "source": [
        "# Escalar los datos\n",
        "Entre 0 y pi"
      ],
      "metadata": {
        "id": "DSZ2pu9v8G_0"
      }
    },
    {
      "cell_type": "code",
      "source": [
        "# Escalar los datos en el rango [1, π]\n",
        "scaler = MinMaxScaler(feature_range=(1, np.pi))\n",
        "data_scaled = scaler.fit_transform(data)"
      ],
      "metadata": {
        "id": "1QmC7bpZ-Dmp"
      },
      "execution_count": null,
      "outputs": []
    },
    {
      "cell_type": "markdown",
      "source": [
        "\n",
        "\n",
        "---\n",
        "\n"
      ],
      "metadata": {
        "id": "RSRElxc-9bbv"
      }
    },
    {
      "cell_type": "markdown",
      "source": [
        "# Ejemplo de `PauliFeatureMap`"
      ],
      "metadata": {
        "id": "a6UFNIzT95Kq"
      }
    },
    {
      "cell_type": "code",
      "source": [
        "from qiskit.circuit.library import PauliFeatureMap\n",
        "from qiskit import QuantumCircuit\n",
        "\n",
        "# Crear el PauliFeatureMap con las paulis especificadas y un solo repetidor (reps=1)\n",
        "prep = PauliFeatureMap(feature_dimension=2, reps=1, paulis=['ZZ'])\n",
        "\n",
        "# Imprimir el circuito para visualizar su estructura\n",
        "print(prep.decompose())"
      ],
      "metadata": {
        "colab": {
          "base_uri": "https://localhost:8080/"
        },
        "id": "JETWmrN79c1_",
        "outputId": "e5b4b623-d145-4e91-980d-e7a378c58839"
      },
      "execution_count": 30,
      "outputs": [
        {
          "output_type": "stream",
          "name": "stdout",
          "text": [
            "     ┌───┐                                          \n",
            "q_0: ┤ H ├──■────────────────────────────────────■──\n",
            "     ├───┤┌─┴─┐┌──────────────────────────────┐┌─┴─┐\n",
            "q_1: ┤ H ├┤ X ├┤ P(2.0*(π - x[0])*(π - x[1])) ├┤ X ├\n",
            "     └───┘└───┘└──────────────────────────────┘└───┘\n"
          ]
        }
      ]
    },
    {
      "cell_type": "code",
      "source": [
        "prep.parameters"
      ],
      "metadata": {
        "colab": {
          "base_uri": "https://localhost:8080/"
        },
        "id": "rDmxE-CfDtP1",
        "outputId": "d33286ea-0285-4444-a597-f0799af8390b"
      },
      "execution_count": 31,
      "outputs": [
        {
          "output_type": "execute_result",
          "data": {
            "text/plain": [
              "ParameterView([ParameterVectorElement(x[0]), ParameterVectorElement(x[1])])"
            ]
          },
          "metadata": {},
          "execution_count": 31
        }
      ]
    },
    {
      "cell_type": "code",
      "source": [
        "# bind the parameters after circuit to create a bound circuit\n",
        "bc = prep.assign_parameters({'x[0]': 3.14})\n",
        "bc.measure_all()\n",
        "# Imprimir el circuito para visualizar su estructura\n",
        "print(prep.decompose())"
      ],
      "metadata": {
        "colab": {
          "base_uri": "https://localhost:8080/"
        },
        "id": "41y71os8D1pk",
        "outputId": "2361fed6-0936-45b8-9338-e466c4bf7304"
      },
      "execution_count": 32,
      "outputs": [
        {
          "output_type": "stream",
          "name": "stdout",
          "text": [
            "     ┌───┐                                          \n",
            "q_0: ┤ H ├──■────────────────────────────────────■──\n",
            "     ├───┤┌─┴─┐┌──────────────────────────────┐┌─┴─┐\n",
            "q_1: ┤ H ├┤ X ├┤ P(2.0*(π - x[0])*(π - x[1])) ├┤ X ├\n",
            "     └───┘└───┘└──────────────────────────────┘└───┘\n"
          ]
        }
      ]
    },
    {
      "cell_type": "code",
      "source": [
        "from qiskit.circuit import QuantumCircuit, Parameter\n",
        "# create the parameter\n",
        "phi = Parameter('phi')"
      ],
      "metadata": {
        "id": "r1LptuOMDl-O"
      },
      "execution_count": null,
      "outputs": []
    },
    {
      "cell_type": "code",
      "source": [],
      "metadata": {
        "id": "JQnr0NUUDxpz"
      },
      "execution_count": null,
      "outputs": []
    },
    {
      "cell_type": "markdown",
      "source": [
        "# Uso de PauliFeatureMap con 4 qubits y datos escalados"
      ],
      "metadata": {
        "id": "NPnqM8uA-Grs"
      }
    },
    {
      "cell_type": "code",
      "source": [
        "from qiskit import QuantumCircuit\n",
        "\n",
        "# Crear el circuito cuántico de 4 qubits\n",
        "qc = QuantumCircuit(4)\n",
        "\n",
        "# Tomamos los primeros cuatro valores escalados (repetimos x0 y x1)\n",
        "x0, x1 = data_scaled[0]  # Tomamos la primera muestra\n",
        "x2, x3 = x0, x1  # Duplicamos para usar en un circuito de 4 qubits\n",
        "\n",
        "# Aplicar puertas Hadamard a todos los qubits\n",
        "qc.h(range(4))\n",
        "\n",
        "# Aplicar interacciones 'ZZ' entre pares de qubits usando los valores específicos\n",
        "\n",
        "# Primer par: qubits 0 y 1\n",
        "qc.cx(0, 1)\n",
        "qc.p(2 * (np.pi - x0) * (np.pi - x1), 1)\n",
        "qc.cx(0, 1)\n",
        "\n",
        "# Segundo par: qubits 2 y 3\n",
        "qc.cx(2, 3)\n",
        "qc.p(2 * (np.pi - x2) * (np.pi - x3), 3)\n",
        "qc.cx(2, 3)\n",
        "\n",
        "# Tercer par: qubits 1 y 2 para añadir entrelazamiento adicional\n",
        "qc.cx(1, 2)\n",
        "qc.p(2 * (np.pi - x1) * (np.pi - x2), 2)\n",
        "qc.cx(1, 2)\n",
        "qc.barrier()  # Barrera después de este bloque de operaciones\n",
        "\n",
        "# Dibujar el circuito\n",
        "print(qc)"
      ],
      "metadata": {
        "colab": {
          "base_uri": "https://localhost:8080/"
        },
        "id": "Swe8qYWY9hd7",
        "outputId": "f1c2a672-f5d5-48d3-cddc-efd4b392327d"
      },
      "execution_count": 20,
      "outputs": [
        {
          "output_type": "stream",
          "name": "stdout",
          "text": [
            "     ┌───┐                                               ░ \n",
            "q_0: ┤ H ├──■─────────────────■──────────────────────────░─\n",
            "     ├───┤┌─┴─┐┌───────────┐┌─┴─┐                        ░ \n",
            "q_1: ┤ H ├┤ X ├┤ P(2.4206) ├┤ X ├──■─────────────────■───░─\n",
            "     ├───┤└───┘└───────────┘└───┘┌─┴─┐┌───────────┐┌─┴─┐ ░ \n",
            "q_2: ┤ H ├──■─────────────────■──┤ X ├┤ P(2.4206) ├┤ X ├─░─\n",
            "     ├───┤┌─┴─┐┌───────────┐┌─┴─┐└───┘└───────────┘└───┘ ░ \n",
            "q_3: ┤ H ├┤ X ├┤ P(2.4206) ├┤ X ├────────────────────────░─\n",
            "     └───┘└───┘└───────────┘└───┘                        ░ \n"
          ]
        }
      ]
    },
    {
      "cell_type": "markdown",
      "source": [
        "Ahora añadimos el circuito inverso pero con con la segunda fila de iris."
      ],
      "metadata": {
        "id": "Cd9yW6Wj-uHE"
      }
    },
    {
      "cell_type": "code",
      "source": [
        "# Tomamos los primeros cuatro valores escalados (repetimos x0 y x1)\n",
        "x0, x1 = data_scaled[1]  # Tomamos la primera muestra\n",
        "x2, x3 = x0, x1  # Duplicamos para usar en un circuito de 4 qubits\n",
        "\n",
        "# Aplicar puertas Hadamard a todos los qubits\n",
        "qc.h(range(4))\n",
        "\n",
        "# Aplicar interacciones 'ZZ' entre pares de qubits usando los valores específicos\n",
        "\n",
        "# Primer par: qubits 0 y 1\n",
        "qc.cx(0, 1)\n",
        "qc.p(2 * (np.pi - x0) * (np.pi - x1), 1)\n",
        "qc.cx(0, 1)\n",
        "\n",
        "# Segundo par: qubits 2 y 3\n",
        "qc.cx(2, 3)\n",
        "qc.p(2 * (np.pi - x2) * (np.pi - x3), 3)\n",
        "qc.cx(2, 3)\n",
        "\n",
        "# Tercer par: qubits 1 y 2 para añadir entrelazamiento adicional\n",
        "qc.cx(1, 2)\n",
        "qc.p(2 * (np.pi - x1) * (np.pi - x2), 2)\n",
        "qc.cx(1, 2)\n",
        "qc.barrier()  # Barrera después de este bloque de operaciones\n",
        "\n",
        "# AHORA EN ORDEN INVERSO Y CON OTRO DATO\n",
        "# Tomamos los primeros cuatro valores escalados (repetimos x0 y x1)\n",
        "x0, x1 = data_scaled[0]  # Tomamos la primera muestra\n",
        "x2, x3 = x0, x1  # Duplicamos para usar en un circuito de 4 qubits\n",
        "\n",
        "# Tercer par: qubits 1 y 2 para añadir entrelazamiento adicional\n",
        "qc.cx(1, 2)\n",
        "qc.p(2 * (np.pi - x1) * (np.pi - x2), 2)\n",
        "qc.cx(1, 2)\n",
        "\n",
        "\n",
        "# Segundo par: qubits 2 y 3\n",
        "qc.cx(2, 3)\n",
        "qc.p(2 * (np.pi - x2) * (np.pi - x3), 3)\n",
        "qc.cx(2, 3)\n",
        "\n",
        "\n",
        "# Primer par: qubits 0 y 1\n",
        "qc.cx(0, 1)\n",
        "qc.p(2 * (np.pi - x0) * (np.pi - x1), 1)\n",
        "qc.cx(0, 1)\n",
        "\n",
        "\n",
        "# Aplicar puertas Hadamard a todos los qubits (al final, en el orden inverso)\n",
        "qc.h(range(4))\n",
        "\n",
        "# Dibujar el circuito\n",
        "print(qc)"
      ],
      "metadata": {
        "colab": {
          "base_uri": "https://localhost:8080/"
        },
        "id": "FBOVPFBS-29O",
        "outputId": "e174d807-f53b-420f-a38d-30eb0316da3f"
      },
      "execution_count": 24,
      "outputs": [
        {
          "output_type": "stream",
          "name": "stdout",
          "text": [
            "                                                   ┌───┐┌───┐                  »\n",
            "q_0: ─────────────────────────■─────────────────■──┤ H ├┤ H ├──■───────────────»\n",
            "                            ┌─┴─┐┌───────────┐┌─┴─┐├───┤├───┤┌─┴─┐┌───────────┐»\n",
            "q_1: ──■─────────────────■──┤ X ├┤ P(2.4206) ├┤ X ├┤ H ├┤ H ├┤ X ├┤ P(4.1618) ├»\n",
            "     ┌─┴─┐┌───────────┐┌─┴─┐└───┘└───────────┘└───┘├───┤├───┤└───┘└───────────┘»\n",
            "q_2: ┤ X ├┤ P(2.4206) ├┤ X ├──■─────────────────■──┤ H ├┤ H ├──■───────────────»\n",
            "     └───┘└───────────┘└───┘┌─┴─┐┌───────────┐┌─┴─┐├───┤├───┤┌─┴─┐┌───────────┐»\n",
            "q_3: ───────────────────────┤ X ├┤ P(2.4206) ├┤ X ├┤ H ├┤ H ├┤ X ├┤ P(4.1618) ├»\n",
            "                            └───┘└───────────┘└───┘└───┘└───┘└───┘└───────────┘»\n",
            "«                                  ░                                          »\n",
            "«q_0: ──■──────────────────────────░──────────────────────────■───────────────»\n",
            "«     ┌─┴─┐                        ░                        ┌─┴─┐┌───────────┐»\n",
            "«q_1: ┤ X ├──■─────────────────■───░───■─────────────────■──┤ X ├┤ P(2.4206) ├»\n",
            "«     └───┘┌─┴─┐┌───────────┐┌─┴─┐ ░ ┌─┴─┐┌───────────┐┌─┴─┐└───┘└───────────┘»\n",
            "«q_2: ──■──┤ X ├┤ P(4.1618) ├┤ X ├─░─┤ X ├┤ P(2.4206) ├┤ X ├──■───────────────»\n",
            "«     ┌─┴─┐└───┘└───────────┘└───┘ ░ └───┘└───────────┘└───┘┌─┴─┐┌───────────┐»\n",
            "«q_3: ┤ X ├────────────────────────░────────────────────────┤ X ├┤ P(2.4206) ├»\n",
            "«     └───┘                        ░                        └───┘└───────────┘»\n",
            "«          ┌───┐\n",
            "«q_0: ──■──┤ H ├\n",
            "«     ┌─┴─┐├───┤\n",
            "«q_1: ┤ X ├┤ H ├\n",
            "«     └───┘├───┤\n",
            "«q_2: ──■──┤ H ├\n",
            "«     ┌─┴─┐├───┤\n",
            "«q_3: ┤ X ├┤ H ├\n",
            "«     └───┘└───┘\n"
          ]
        }
      ]
    }
  ]
}