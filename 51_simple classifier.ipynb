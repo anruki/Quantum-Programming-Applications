{
 "cells": [
  {
   "cell_type": "code",
   "execution_count": 1,
   "id": "1442b048",
   "metadata": {},
   "outputs": [],
   "source": [
    "from IPython.display import Image"
   ]
  },
  {
   "cell_type": "markdown",
   "id": "b5d1df04",
   "metadata": {},
   "source": [
    "## Quantum Machine Learning"
   ]
  },
  {
   "cell_type": "markdown",
   "id": "5cfb8c05",
   "metadata": {},
   "source": [
    "## Variational Quantum Algorithms"
   ]
  },
  {
   "cell_type": "markdown",
   "id": "a29188f3",
   "metadata": {},
   "source": [
    "\n",
    "The design and implementation of a VQA includes several steps:\n",
    "<br>\n",
    "- Selection of the cost function C($\\theta$) corresponding to the solution of our problem\n",
    "<br>\n",
    "- Selection of the ansatz, or in other words the structure of our quantum circuit\n",
    "<br>\n",
    "- Decisions on how to encode the trainable parameters $\\theta$\n",
    "<br>\n",
    "- Design and implementation of the functions that will encode feature mapping\n",
    "<br>\n",
    "- Decisions what the results will be used for (classification or further layers)\n",
    "<br>\n",
    "- Choice of the technique for the derivation of the cost function to calculate the\n",
    "gradient of the quantum circuit\n",
    "<br>\n",
    "<br>\n",
    "<div>\n",
    "<img src=\"attachment:VAQ%20image.png\" width=\"800\"/>\n",
    "</div>\n",
    "\n",
    "Image taken from research paper Variational Quantum Algorithms<sup>1</sup>\n",
    "<br>\n",
    "\n",
    "Ansatz determines what the trainable parameters are and how they can be encoded in the quantum circuit. They can be:\n",
    "- generic or problem specific\n",
    "<br>\n",
    "- fixed or dynamic (variational) like ADAPT-VQE\n",
    "<br>\n",
    "- only quantum or hybrid\n",
    "\n",
    "<br>\n",
    "<span id=\"fn1\">1) https://arxiv.org/abs/2012.09265</span>\n"
   ]
  },
  {
   "cell_type": "markdown",
   "id": "cca35730",
   "metadata": {},
   "source": [
    "### Developing simple quantum classifier\n",
    "\n",
    "We will create a circuit based on a number of entangled qubits and encode our parameters as amplitudes (angles). Based on the measurements, we will compare the result with the target labels, and calculate how much we need to adjust those amplitudes so to increase the probability of a correct prediction. "
   ]
  },
  {
   "cell_type": "code",
   "execution_count": 8,
   "id": "2787b737",
   "metadata": {},
   "outputs": [],
   "source": [
    "import numpy as np\n",
    "import matplotlib.pyplot as plt\n",
    "import qiskit\n",
    "\n",
    "from qiskit_aer import AerSimulator\n",
    "from qiskit.transpiler.preset_passmanagers import generate_preset_pass_manager\n",
    "from qiskit_ibm_runtime import Session, SamplerV2 as Sampler\n",
    "\n",
    "from qiskit.circuit import Parameter\n",
    "from tqdm import tqdm"
   ]
  },
  {
   "cell_type": "code",
   "execution_count": null,
   "id": "4f783103",
   "metadata": {},
   "outputs": [],
   "source": [
    "NUM_QUBITS = 4\n",
    "NUM_SHOTS = 10000\n",
    "SHIFT = np.pi/2\n",
    "LEARNING_RATE = 0.2\n",
    "BACKEND = AerSimulator()\n",
    "NUM_EPOCHS = 100\n",
    "QC_OUTPUTS = ['0','1']"
   ]
  },
  {
   "cell_type": "markdown",
   "id": "7cbe18b0",
   "metadata": {},
   "source": [
    "Next, we will define a class that will create a circuit and all necessary methods to execute it and obtain the results"
   ]
  },
  {
   "cell_type": "code",
   "execution_count": 14,
   "id": "76171c90",
   "metadata": {},
   "outputs": [],
   "source": [
    "class QiskitCircuit():\n",
    "    \"\"\"\n",
    "    The class implements parameterized quantum circuit with num_qubit entangled qubits and\n",
    "    encodes parameters in the angle of 'y' rotation operator with Ry gate\n",
    "    \"\"\"\n",
    "    def __init__(self, num_qubits, backend, shots):\n",
    "        self.circuit = qiskit.QuantumCircuit(num_qubits, 1)\n",
    "        self.num_qubits = num_qubits\n",
    "        self.backend = backend\n",
    "        self.shots = shots\n",
    "        self.thetas = {k: Parameter('Theta' + str(k)) for k in range(self.num_qubits)}\n",
    "\n",
    "        self.circuit.h(0)\n",
    "        for k in range(num_qubits - 1):\n",
    "            self.circuit.cx(k, k + 1)\n",
    "\n",
    "        self.circuit.barrier()\n",
    "        for k in range(num_qubits):\n",
    "            self.circuit.ry(self.thetas[k], k)\n",
    "        self.circuit.barrier()\n",
    "\n",
    "        for i in reversed(range(num_qubits - 1)):\n",
    "            self.circuit.cx(i, i + 1)\n",
    "        self.circuit.h(0)\n",
    "        self.circuit.measure(0, 0)\n",
    "\n",
    "    def expect_result(self, counts, shots):\n",
    "        \"\"\"\n",
    "        This function takes the result of the experiment and gives as output the probability distribution\n",
    "        \"\"\"\n",
    "        expects = np.zeros(len(QC_OUTPUTS))\n",
    "        for k in range(len(QC_OUTPUTS)):\n",
    "            key = QC_OUTPUTS[k]\n",
    "            perc = counts.get(key, 0) / shots\n",
    "            expects[k] = perc\n",
    "        return expects\n",
    "\n",
    "    def run(self, params):\n",
    "        \"\"\"\n",
    "        This function will receive the parameters and run the gates.\n",
    "        It will collect the results and call 'expect_result' to obtain the probability distribution\n",
    "        \"\"\"\n",
    "        # print('params = {}'.format(len(params)))\n",
    "        \n",
    "        pm = generate_preset_pass_manager(backend=self.backend, optimization_level=1)\n",
    "        isa_qc = pm.run(self.circuit)\n",
    "        with Session(backend=self.backend) as session:\n",
    "            sampler = Sampler(mode=session)\n",
    "            result = sampler.run([(isa_qc, params)]).result()\n",
    "\n",
    "            pub_result = result[0]\n",
    "            counts = pub_result.data.c.get_counts()\n",
    "\n",
    "\n",
    "\n",
    "\n",
    "        result = self.expect_result(counts, self.shots)\n",
    "        return result\n"
   ]
  },
  {
   "cell_type": "code",
   "execution_count": 15,
   "id": "a0f9dd78",
   "metadata": {},
   "outputs": [
    {
     "name": "stdout",
     "output_type": "stream",
     "text": [
      "Expected value for rotation ['pi/1', 'pi/2', 'pi/4', 'pi/8']: [0.051  0.0514]\n"
     ]
    },
    {
     "data": {
      "image/png": "[encoded data removed]",
      "text/plain": [
       "<Figure size 1123.61x451.5 with 1 Axes>"
      ]
     },
     "execution_count": 15,
     "metadata": {},
     "output_type": "execute_result"
    }
   ],
   "source": [
    "circuit = QiskitCircuit(NUM_QUBITS, BACKEND, NUM_SHOTS)\n",
    "test_params = np.array([np.pi / 2**k for k in range(NUM_QUBITS)])\n",
    "test_names = ['pi/{}'.format(2**k) for k in range (NUM_QUBITS)]\n",
    "circuit_run = circuit.run(test_params)\n",
    "print('Expected value for rotation {}: {}'.format(test_names, circuit_run))\n",
    "circuit.circuit.draw(output='mpl')"
   ]
  },
  {
   "cell_type": "markdown",
   "id": "7be4cc5e",
   "metadata": {},
   "source": [
    "### Gradient calculations\n",
    "\n",
    "We will develop procedures for forward and backward pass for the calculation of prediction probabiliites and the circuit gradient\n",
    "\n",
    "<br>\n",
    "<div>\n",
    "<img src=\"attachment:gradient%20of%20simple%20clf.png\" width=\"850\"/>\n",
    "</div>\n",
    "<br>\n"
   ]
  },
  {
   "cell_type": "markdown",
   "id": "0fad3b57",
   "metadata": {},
   "source": [
    "### Forward and backward pass functions"
   ]
  },
  {
   "cell_type": "code",
   "execution_count": 35,
   "id": "e864f584",
   "metadata": {},
   "outputs": [],
   "source": [
    "def get_initial_params(num_qubits):\n",
    "    \"\"\"\n",
    "    We initialize the parameters to a value. It can be random initialization.\n",
    "    These parameters will evolve over time being updated by the algorithm\n",
    "    \"\"\"\n",
    "    q_params = [np.pi / 2 ** k for k in range(num_qubits)]\n",
    "    return np.array(q_params)\n",
    "\n",
    "\n",
    "def forward(num_qubits, backend, num_shots, q_params):\n",
    "    \"\"\"\n",
    "    This is forward function, which calculates the output of the quantum circuit based on the input parameters\n",
    "    It returns the probability distribution\n",
    "    \"\"\"\n",
    "    circuit = QiskitCircuit(num_qubits, backend, num_shots)\n",
    "    print('input_numbers = {}'.format(q_params))\n",
    "    expectation = circuit.run(q_params)\n",
    "    return expectation\n",
    "\n",
    "def backward(num_qubits, backend, num_shots, q_params, d_loss):\n",
    "    \"\"\"\n",
    "    This function performs the backpropagation by calculating the gradient of the quantum circuit with respect to its parameters,\n",
    "    using parameter shift rule and multiplying it with the gradient of the loss function 'd_loss'\n",
    "    \"\"\"\n",
    "    circuit = QiskitCircuit(num_qubits, backend, num_shots)\n",
    "    q_grads = []\n",
    "    for k in range(num_qubits):\n",
    "        #*********************************************************\n",
    "        #********* your cod here *********************************\n",
    "        \n",
    "        \n",
    "        \n",
    "        \n",
    "        \n",
    "        \n",
    "        \n",
    "        \n",
    "        expectation_plus = \n",
    "        expectation_minus = \n",
    "        #***********************************************************\n",
    "        q_grad = expectation_plus - expectation_minus\n",
    "        q_grad_norm = q_grad / (np.linalg.norm(q_grad * 1.0)+(1e-09))\n",
    "        q_grads.append(q_grad_norm[0])\n",
    "    q_grads = np.array(q_grads)\n",
    "    #print('q gradient = {}'.format(q_grads))\n",
    "    dQ = d_loss * q_grads\n",
    "    #print('total gradient = {}'.format(dQ))\n",
    "    return dQ\n",
    "\n",
    "def cost(num_qubits, simulator, num_shots, q_params):\n",
    "    \"\"\"\n",
    "    This function performs the forward run producing the predictions, and calculates the loss function and the gradient of the loss function.\n",
    "    It uses quadratic loss function\n",
    "    \"\"\"\n",
    "    target = 1\n",
    "    expval = forward(num_qubits, simulator, num_shots, q_params)\n",
    "    print('predicted value = {}'.format(expval))\n",
    "    val = sum([(i + 1) * expval[i] for i in range(2)]) / 2\n",
    "    loss = (val - target) ** 2\n",
    "    d_loss = val - target\n",
    "    print('loss = {}'.format(loss))\n",
    "    return loss, d_loss, expval\n"
   ]
  },
  {
   "cell_type": "markdown",
   "id": "855093e3",
   "metadata": {},
   "source": [
    "### Training and loss calculation"
   ]
  },
  {
   "cell_type": "code",
   "execution_count": 36,
   "id": "02ce88d9",
   "metadata": {},
   "outputs": [
    {
     "name": "stderr",
     "output_type": "stream",
     "text": [
      "  0%|          | 0/100 [00:00<?, ?it/s]"
     ]
    },
    {
     "name": "stdout",
     "output_type": "stream",
     "text": [
      "input_numbers = [3.14159265 1.57079633 0.78539816 0.39269908]\n",
      "predicted value = [0.503 0.497]\n",
      "loss = 0.06325225000000002\n"
     ]
    },
    {
     "name": "stderr",
     "output_type": "stream",
     "text": [
      "  1%|          | 1/100 [00:00<00:25,  3.85it/s]"
     ]
    },
    {
     "name": "stdout",
     "output_type": "stream",
     "text": [
      "input_numbers = [3.17716012 1.53522886 0.7498307  0.42826654]\n",
      "predicted value = [0.4778 0.5222]\n",
      "loss = 0.05707321\n"
     ]
    },
    {
     "name": "stderr",
     "output_type": "stream",
     "text": [
      "  3%|▎         | 3/100 [00:00<00:21,  4.47it/s]"
     ]
    },
    {
     "name": "stdout",
     "output_type": "stream",
     "text": [
      "input_numbers = [3.21094569 1.50144329 0.71604514 0.46205208]\n",
      "predicted value = [0.4679 0.5321]\n",
      "loss = 0.0547326025\n",
      "input_numbers = [3.24403121 1.46835777 0.68295962 0.4951376 ]\n",
      "predicted value = [0.4468 0.5532]\n",
      "loss = 0.04990756000000002\n"
     ]
    },
    {
     "name": "stderr",
     "output_type": "stream",
     "text": [
      "  5%|▌         | 5/100 [00:01<00:20,  4.74it/s]"
     ]
    },
    {
     "name": "stdout",
     "output_type": "stream",
     "text": [
      "input_numbers = [3.27562474 1.43676424 0.65136609 0.52673113]\n",
      "predicted value = [0.4273 0.5727]\n",
      "loss = 0.0456463225\n",
      "input_numbers = [3.30583942 1.40654956 0.62115142 0.55694581]\n"
     ]
    },
    {
     "name": "stderr",
     "output_type": "stream",
     "text": [
      "  6%|▌         | 6/100 [00:01<00:20,  4.64it/s]"
     ]
    },
    {
     "name": "stdout",
     "output_type": "stream",
     "text": [
      "predicted value = [0.4134 0.5866]\n",
      "loss = 0.042724889999999995\n",
      "input_numbers = [3.33507121 1.37731777 0.59191963 0.5861776 ]\n"
     ]
    },
    {
     "name": "stderr",
     "output_type": "stream",
     "text": [
      "  7%|▋         | 7/100 [00:01<00:19,  4.74it/s]"
     ]
    },
    {
     "name": "stdout",
     "output_type": "stream",
     "text": [
      "predicted value = [0.4113 0.5887]\n",
      "loss = 0.0422919225\n",
      "input_numbers = [3.36415451 1.34823447 0.6210029  0.6152609 ]\n",
      "predicted value = [0.3942 0.6058]\n",
      "loss = 0.03884841000000002\n"
     ]
    },
    {
     "name": "stderr",
     "output_type": "stream",
     "text": [
      "  9%|▉         | 9/100 [00:01<00:19,  4.74it/s]"
     ]
    },
    {
     "name": "stdout",
     "output_type": "stream",
     "text": [
      "input_numbers = [3.39202866 1.32036032 0.59312879 0.64313504]\n",
      "predicted value = [0.3722 0.6278]\n",
      "loss = 0.03463320999999998\n"
     ]
    },
    {
     "name": "stderr",
     "output_type": "stream",
     "text": [
      " 10%|█         | 10/100 [00:02<00:18,  4.79it/s]"
     ]
    },
    {
     "name": "stdout",
     "output_type": "stream",
     "text": [
      "input_numbers = [3.41834718 1.2940418  0.6194473  0.61681653]\n",
      "predicted value = [0.3691 0.6309]\n",
      "loss = 0.034058702499999996\n"
     ]
    },
    {
     "name": "stderr",
     "output_type": "stream",
     "text": [
      " 11%|█         | 11/100 [00:02<00:18,  4.81it/s]"
     ]
    },
    {
     "name": "stdout",
     "output_type": "stream",
     "text": [
      "input_numbers = [3.44444649 1.26794249 0.64554661 0.64291584]\n",
      "predicted value = [0.3567 0.6433]\n",
      "loss = 0.031808722500000004\n",
      "input_numbers = [3.46966899 1.24271999 0.62032411 0.66813825]\n",
      "predicted value = [0.3442 0.6558]\n",
      "loss = 0.029618409999999974\n"
     ]
    },
    {
     "name": "stderr",
     "output_type": "stream",
     "text": [
      " 12%|█▏        | 12/100 [00:02<00:19,  4.59it/s]"
     ]
    },
    {
     "name": "stdout",
     "output_type": "stream",
     "text": [
      "input_numbers = [3.4940076  1.21838138 0.64466273 0.64379963]\n",
      "predicted value = [0.3422 0.6578]\n",
      "loss = 0.02927520999999997\n"
     ]
    },
    {
     "name": "stderr",
     "output_type": "stream",
     "text": [
      " 13%|█▎        | 13/100 [00:02<00:18,  4.63it/s]"
     ]
    },
    {
     "name": "stdout",
     "output_type": "stream",
     "text": [
      "input_numbers = [3.5182048  1.19418418 0.62046554 0.61960245]\n",
      "predicted value = [0.3313 0.6687]\n",
      "loss = 0.027439922500000026\n"
     ]
    },
    {
     "name": "stderr",
     "output_type": "stream",
     "text": [
      " 14%|█▍        | 14/100 [00:03<00:18,  4.64it/s]"
     ]
    },
    {
     "name": "stdout",
     "output_type": "stream",
     "text": [
      "input_numbers = [3.54163124 1.17075774 0.64389198 0.64302889]\n",
      "predicted value = [0.3168 0.6832]\n",
      "loss = 0.025090559999999994\n"
     ]
    },
    {
     "name": "stderr",
     "output_type": "stream",
     "text": [
      " 15%|█▌        | 15/100 [00:03<00:18,  4.66it/s]"
     ]
    },
    {
     "name": "stdout",
     "output_type": "stream",
     "text": [
      "input_numbers = [3.56403239 1.14835659 0.62149084 0.66543003]\n",
      "predicted value = [0.3173 0.6827]\n",
      "loss = 0.025169822499999987\n"
     ]
    },
    {
     "name": "stderr",
     "output_type": "stream",
     "text": [
      " 16%|█▌        | 16/100 [00:03<00:17,  4.69it/s]"
     ]
    },
    {
     "name": "stdout",
     "output_type": "stream",
     "text": [
      "input_numbers = [3.58646888 1.1259201  0.64392733 0.64299353]\n",
      "predicted value = [0.302 0.698]\n",
      "loss = 0.022801000000000005\n"
     ]
    },
    {
     "name": "stderr",
     "output_type": "stream",
     "text": [
      " 17%|█▋        | 17/100 [00:03<00:17,  4.66it/s]"
     ]
    },
    {
     "name": "stdout",
     "output_type": "stream",
     "text": [
      "input_numbers = [3.60782351 1.10456547 0.62257271 0.66434812]\n",
      "predicted value = [0.2912 0.7088]\n",
      "loss = 0.021199359999999987\n"
     ]
    },
    {
     "name": "stderr",
     "output_type": "stream",
     "text": [
      " 19%|█▉        | 19/100 [00:04<00:17,  4.73it/s]"
     ]
    },
    {
     "name": "stdout",
     "output_type": "stream",
     "text": [
      "input_numbers = [3.62841446 1.08397452 0.64316366 0.64375717]\n",
      "predicted value = [0.2996 0.7004]\n",
      "loss = 0.02244003999999998\n",
      "input_numbers = [3.64959938 1.0627896  0.62197875 0.62257226]\n",
      "predicted value = [0.2842 0.7158]\n",
      "loss = 0.02019241\n"
     ]
    },
    {
     "name": "stderr",
     "output_type": "stream",
     "text": [
      " 20%|██        | 20/100 [00:04<00:16,  4.74it/s]"
     ]
    },
    {
     "name": "stdout",
     "output_type": "stream",
     "text": [
      "input_numbers = [3.66969535 1.04269363 0.60188277 0.6024763 ]\n",
      "predicted value = [0.2844 0.7156]\n",
      "loss = 0.020220839999999997\n"
     ]
    },
    {
     "name": "stderr",
     "output_type": "stream",
     "text": [
      " 21%|██        | 21/100 [00:04<00:20,  3.91it/s]"
     ]
    },
    {
     "name": "stdout",
     "output_type": "stream",
     "text": [
      "input_numbers = [3.68980547 1.02258351 0.58177266 0.58236623]\n",
      "predicted value = [0.2808 0.7192]\n",
      "loss = 0.019712160000000024\n"
     ]
    },
    {
     "name": "stderr",
     "output_type": "stream",
     "text": [
      " 22%|██▏       | 22/100 [00:04<00:20,  3.77it/s]"
     ]
    },
    {
     "name": "stdout",
     "output_type": "stream",
     "text": [
      "input_numbers = [3.70966103 1.00272795 0.60162822 0.60222179]\n",
      "predicted value = [0.2691 0.7309]\n",
      "loss = 0.018103702499999985\n"
     ]
    },
    {
     "name": "stderr",
     "output_type": "stream",
     "text": [
      " 23%|██▎       | 23/100 [00:05<00:19,  3.90it/s]"
     ]
    },
    {
     "name": "stdout",
     "output_type": "stream",
     "text": [
      "input_numbers = [3.72868927 0.98369971 0.58259998 0.62125003]\n",
      "predicted value = [0.2684 0.7316]\n",
      "loss = 0.018009639999999997\n"
     ]
    },
    {
     "name": "stderr",
     "output_type": "stream",
     "text": [
      " 24%|██▍       | 24/100 [00:05<00:19,  3.94it/s]"
     ]
    },
    {
     "name": "stdout",
     "output_type": "stream",
     "text": [
      "input_numbers = [3.74766801 0.96472096 0.60157872 0.60227129]\n",
      "predicted value = [0.2615 0.7385]\n",
      "loss = 0.01709556249999998\n"
     ]
    },
    {
     "name": "stderr",
     "output_type": "stream",
     "text": [
      " 25%|██▌       | 25/100 [00:05<00:19,  3.90it/s]"
     ]
    },
    {
     "name": "stdout",
     "output_type": "stream",
     "text": [
      "input_numbers = [3.72917717 0.94623012 0.62006957 0.62076207]\n",
      "predicted value = [0.2643 0.7357]\n",
      "loss = 0.017463622499999998\n"
     ]
    },
    {
     "name": "stderr",
     "output_type": "stream",
     "text": [
      " 26%|██▌       | 26/100 [00:05<00:18,  4.05it/s]"
     ]
    },
    {
     "name": "stdout",
     "output_type": "stream",
     "text": [
      "input_numbers = [3.74786601 0.92754129 0.60138073 0.60207323]\n",
      "predicted value = [0.258 0.742]\n",
      "loss = 0.016641\n"
     ]
    },
    {
     "name": "stderr",
     "output_type": "stream",
     "text": [
      " 27%|██▋       | 27/100 [00:06<00:18,  3.98it/s]"
     ]
    },
    {
     "name": "stdout",
     "output_type": "stream",
     "text": [
      "input_numbers = [3.72962265 0.90929793 0.58313738 0.58382988]\n",
      "predicted value = [0.2522 0.7478]\n",
      "loss = 0.01590121\n"
     ]
    },
    {
     "name": "stderr",
     "output_type": "stream",
     "text": [
      " 28%|██▊       | 28/100 [00:06<00:18,  3.88it/s]"
     ]
    },
    {
     "name": "stdout",
     "output_type": "stream",
     "text": [
      "input_numbers = [3.71178942 0.8914647  0.56530415 0.56599665]\n",
      "predicted value = [0.2613 0.7387]\n",
      "loss = 0.017069422499999983\n"
     ]
    },
    {
     "name": "stderr",
     "output_type": "stream",
     "text": [
      " 29%|██▉       | 29/100 [00:06<00:21,  3.24it/s]"
     ]
    },
    {
     "name": "stdout",
     "output_type": "stream",
     "text": [
      "input_numbers = [3.69331272 0.872988   0.54682745 0.54751995]\n",
      "predicted value = [0.247 0.753]\n",
      "loss = 0.015252249999999986\n"
     ]
    },
    {
     "name": "stderr",
     "output_type": "stream",
     "text": [
      " 30%|███       | 30/100 [00:07<00:19,  3.50it/s]"
     ]
    },
    {
     "name": "stdout",
     "output_type": "stream",
     "text": [
      "input_numbers = [3.67584718 0.85552246 0.52936191 0.53005441]\n",
      "predicted value = [0.2447 0.7553]\n",
      "loss = 0.014969522500000018\n"
     ]
    },
    {
     "name": "stderr",
     "output_type": "stream",
     "text": [
      " 31%|███       | 31/100 [00:07<00:18,  3.68it/s]"
     ]
    },
    {
     "name": "stdout",
     "output_type": "stream",
     "text": [
      "input_numbers = [3.65854428 0.83821956 0.51205901 0.51275151]\n",
      "predicted value = [0.2304 0.7696]\n",
      "loss = 0.013271040000000019\n"
     ]
    },
    {
     "name": "stderr",
     "output_type": "stream",
     "text": [
      " 32%|███▏      | 32/100 [00:07<00:19,  3.42it/s]"
     ]
    },
    {
     "name": "stdout",
     "output_type": "stream",
     "text": [
      "input_numbers = [3.64225254 0.82192782 0.49576727 0.49645977]\n",
      "predicted value = [0.2292 0.7708]\n",
      "loss = 0.013133159999999982\n"
     ]
    },
    {
     "name": "stderr",
     "output_type": "stream",
     "text": [
      " 33%|███▎      | 33/100 [00:08<00:23,  2.88it/s]"
     ]
    },
    {
     "name": "stdout",
     "output_type": "stream",
     "text": [
      "input_numbers = [3.62604565 0.80572093 0.47956038 0.48025288]\n",
      "predicted value = [0.2225 0.7775]\n",
      "loss = 0.012376562500000016\n"
     ]
    },
    {
     "name": "stderr",
     "output_type": "stream",
     "text": [
      " 34%|███▍      | 34/100 [00:08<00:24,  2.74it/s]"
     ]
    },
    {
     "name": "stdout",
     "output_type": "stream",
     "text": [
      "input_numbers = [3.61031253 0.78998781 0.46382725 0.46451975]\n",
      "predicted value = [0.2132 0.7868]\n",
      "loss = 0.011363559999999983\n"
     ]
    },
    {
     "name": "stderr",
     "output_type": "stream",
     "text": [
      " 35%|███▌      | 35/100 [00:08<00:21,  3.03it/s]"
     ]
    },
    {
     "name": "stdout",
     "output_type": "stream",
     "text": [
      "input_numbers = [3.59523701 0.77491229 0.44875174 0.44944424]\n",
      "predicted value = [0.2094 0.7906]\n",
      "loss = 0.010962090000000002\n"
     ]
    },
    {
     "name": "stderr",
     "output_type": "stream",
     "text": [
      " 36%|███▌      | 36/100 [00:09<00:20,  3.14it/s]"
     ]
    },
    {
     "name": "stdout",
     "output_type": "stream",
     "text": [
      "input_numbers = [3.58043019 0.76010547 0.43394492 0.43463742]\n",
      "predicted value = [0.1997 0.8003]\n",
      "loss = 0.009970022499999998\n"
     ]
    },
    {
     "name": "stderr",
     "output_type": "stream",
     "text": [
      " 37%|███▋      | 37/100 [00:09<00:18,  3.48it/s]"
     ]
    },
    {
     "name": "stdout",
     "output_type": "stream",
     "text": [
      "input_numbers = [3.56630927 0.74598455 0.419824   0.4205165 ]\n",
      "predicted value = [0.193 0.807]\n",
      "loss = 0.009312249999999984\n"
     ]
    },
    {
     "name": "stderr",
     "output_type": "stream",
     "text": [
      " 38%|███▊      | 38/100 [00:09<00:16,  3.70it/s]"
     ]
    },
    {
     "name": "stdout",
     "output_type": "stream",
     "text": [
      "input_numbers = [3.55266211 0.73233739 0.40617684 0.40686934]\n",
      "predicted value = [0.1925 0.8075]\n",
      "loss = 0.00926406249999999\n"
     ]
    },
    {
     "name": "stderr",
     "output_type": "stream",
     "text": [
      " 39%|███▉      | 39/100 [00:09<00:15,  3.95it/s]"
     ]
    },
    {
     "name": "stdout",
     "output_type": "stream",
     "text": [
      "input_numbers = [3.53905031 0.71872559 0.39256503 0.39325753]\n",
      "predicted value = [0.1887 0.8113]\n",
      "loss = 0.008901922499999987\n"
     ]
    },
    {
     "name": "stderr",
     "output_type": "stream",
     "text": [
      " 40%|████      | 40/100 [00:09<00:14,  4.08it/s]"
     ]
    },
    {
     "name": "stdout",
     "output_type": "stream",
     "text": [
      "input_numbers = [3.5257072  0.70538248 0.37922193 0.37991443]\n",
      "predicted value = [0.1842 0.8158]\n",
      "loss = 0.008482410000000013\n"
     ]
    },
    {
     "name": "stderr",
     "output_type": "stream",
     "text": [
      " 41%|████      | 41/100 [00:10<00:13,  4.26it/s]"
     ]
    },
    {
     "name": "stdout",
     "output_type": "stream",
     "text": [
      "input_numbers = [3.51268229 0.69235757 0.36619702 0.36688952]\n",
      "predicted value = [0.1718 0.8282]\n",
      "loss = 0.007378809999999996\n"
     ]
    },
    {
     "name": "stderr",
     "output_type": "stream",
     "text": [
      " 42%|████▏     | 42/100 [00:10<00:13,  4.22it/s]"
     ]
    },
    {
     "name": "stdout",
     "output_type": "stream",
     "text": [
      "input_numbers = [3.5005342  0.68020948 0.35404893 0.35474143]\n",
      "predicted value = [0.1607 0.8393]\n",
      "loss = 0.0064561224999999875\n"
     ]
    },
    {
     "name": "stderr",
     "output_type": "stream",
     "text": [
      " 43%|████▎     | 43/100 [00:10<00:13,  4.34it/s]"
     ]
    },
    {
     "name": "stdout",
     "output_type": "stream",
     "text": [
      "input_numbers = [3.48917099 0.66884627 0.34268572 0.34337822]\n",
      "predicted value = [0.1613 0.8387]\n",
      "loss = 0.0065044225\n"
     ]
    },
    {
     "name": "stderr",
     "output_type": "stream",
     "text": [
      " 44%|████▍     | 44/100 [00:10<00:12,  4.47it/s]"
     ]
    },
    {
     "name": "stdout",
     "output_type": "stream",
     "text": [
      "input_numbers = [3.47776536 0.65744064 0.33128009 0.33197259]\n",
      "predicted value = [0.1558 0.8442]\n",
      "loss = 0.006068410000000013\n"
     ]
    },
    {
     "name": "stderr",
     "output_type": "stream",
     "text": [
      " 45%|████▌     | 45/100 [00:11<00:12,  4.47it/s]"
     ]
    },
    {
     "name": "stdout",
     "output_type": "stream",
     "text": [
      "input_numbers = [3.46674864 0.64642392 0.32026336 0.32095587]\n",
      "predicted value = [0.1506 0.8494]\n",
      "loss = 0.005670089999999989\n"
     ]
    },
    {
     "name": "stderr",
     "output_type": "stream",
     "text": [
      " 46%|████▌     | 46/100 [00:11<00:11,  4.54it/s]"
     ]
    },
    {
     "name": "stdout",
     "output_type": "stream",
     "text": [
      "input_numbers = [3.45609961 0.63577489 0.30961434 0.31030684]\n",
      "predicted value = [0.1472 0.8528]\n",
      "loss = 0.00541696\n"
     ]
    },
    {
     "name": "stderr",
     "output_type": "stream",
     "text": [
      " 47%|████▋     | 47/100 [00:11<00:11,  4.51it/s]"
     ]
    },
    {
     "name": "stdout",
     "output_type": "stream",
     "text": [
      "input_numbers = [3.445691   0.62536628 0.29920572 0.29989823]\n",
      "predicted value = [0.1382 0.8618]\n",
      "loss = 0.004774809999999991\n"
     ]
    },
    {
     "name": "stderr",
     "output_type": "stream",
     "text": [
      " 48%|████▊     | 48/100 [00:11<00:11,  4.54it/s]"
     ]
    },
    {
     "name": "stdout",
     "output_type": "stream",
     "text": [
      "input_numbers = [3.43591878 0.61559406 0.28943351 0.29012601]\n",
      "predicted value = [0.1344 0.8656]\n",
      "loss = 0.00451583999999999\n"
     ]
    },
    {
     "name": "stderr",
     "output_type": "stream",
     "text": [
      " 50%|█████     | 50/100 [00:12<00:10,  4.69it/s]"
     ]
    },
    {
     "name": "stdout",
     "output_type": "stream",
     "text": [
      "input_numbers = [3.42641527 0.60609055 0.27992999 0.28062249]\n",
      "predicted value = [0.1271 0.8729]\n",
      "loss = 0.004038602499999999\n"
     ]
    },
    {
     "name": "stderr",
     "output_type": "stream",
     "text": [
      " 51%|█████     | 51/100 [00:12<00:10,  4.83it/s]"
     ]
    },
    {
     "name": "stdout",
     "output_type": "stream",
     "text": [
      "input_numbers = [3.41742794 0.59710322 0.27094267 0.27163517]\n",
      "predicted value = [0.1206 0.8794]\n",
      "loss = 0.0036360900000000024\n",
      "input_numbers = [3.40890023 0.58857551 0.26241496 0.26310746]\n"
     ]
    },
    {
     "name": "stderr",
     "output_type": "stream",
     "text": [
      " 52%|█████▏    | 52/100 [00:12<00:09,  4.92it/s]"
     ]
    },
    {
     "name": "stdout",
     "output_type": "stream",
     "text": [
      "predicted value = [0.123 0.877]\n",
      "loss = 0.00378225\n",
      "input_numbers = [3.40020282 0.5798781  0.25371755 0.25441005]\n",
      "predicted value = [0.1183 0.8817]\n",
      "loss = 0.003498722499999991\n"
     ]
    },
    {
     "name": "stderr",
     "output_type": "stream",
     "text": [
      " 54%|█████▍    | 54/100 [00:12<00:09,  4.93it/s]"
     ]
    },
    {
     "name": "stdout",
     "output_type": "stream",
     "text": [
      "input_numbers = [3.39183775 0.57151303 0.24535247 0.24604497]\n",
      "predicted value = [0.1069 0.8931]\n",
      "loss = 0.0028569025\n",
      "input_numbers = [3.38427877 0.56395405 0.2377935  0.238486  ]\n"
     ]
    },
    {
     "name": "stderr",
     "output_type": "stream",
     "text": [
      " 55%|█████▌    | 55/100 [00:13<00:09,  4.81it/s]"
     ]
    },
    {
     "name": "stdout",
     "output_type": "stream",
     "text": [
      "predicted value = [0.1082 0.8918]\n",
      "loss = 0.002926809999999992\n",
      "input_numbers = [3.37662788 0.55630316 0.23014261 0.23083511]\n"
     ]
    },
    {
     "name": "stderr",
     "output_type": "stream",
     "text": [
      " 56%|█████▌    | 56/100 [00:13<00:09,  4.81it/s]"
     ]
    },
    {
     "name": "stdout",
     "output_type": "stream",
     "text": [
      "predicted value = [0.1059 0.8941]\n",
      "loss = 0.0028037025000000057\n",
      "input_numbers = [3.36913962 0.5488149  0.22265434 0.22334685]\n",
      "predicted value = [0.1016 0.8984]\n",
      "loss = 0.002580640000000007\n"
     ]
    },
    {
     "name": "stderr",
     "output_type": "stream",
     "text": [
      " 57%|█████▋    | 57/100 [00:13<00:09,  4.72it/s]"
     ]
    },
    {
     "name": "stdout",
     "output_type": "stream",
     "text": [
      "input_numbers = [3.36195541 0.54163069 0.21547014 0.21616264]\n",
      "predicted value = [0.0984 0.9016]\n",
      "loss = 0.002420640000000002\n"
     ]
    },
    {
     "name": "stderr",
     "output_type": "stream",
     "text": [
      " 58%|█████▊    | 58/100 [00:13<00:08,  4.70it/s]"
     ]
    },
    {
     "name": "stdout",
     "output_type": "stream",
     "text": [
      "input_numbers = [3.35499748 0.53467276 0.20851221 0.20920471]\n",
      "predicted value = [0.0919 0.9081]\n",
      "loss = 0.002111402499999994\n"
     ]
    },
    {
     "name": "stderr",
     "output_type": "stream",
     "text": [
      " 59%|█████▉    | 59/100 [00:14<00:08,  4.61it/s]"
     ]
    },
    {
     "name": "stdout",
     "output_type": "stream",
     "text": [
      "input_numbers = [3.34849917 0.52817445 0.2020139  0.2027064 ]\n",
      "predicted value = [0.0965 0.9035]\n",
      "loss = 0.0023280625000000016\n"
     ]
    },
    {
     "name": "stderr",
     "output_type": "stream",
     "text": [
      " 60%|██████    | 60/100 [00:14<00:08,  4.64it/s]"
     ]
    },
    {
     "name": "stdout",
     "output_type": "stream",
     "text": [
      "input_numbers = [3.34167559 0.52135087 0.19519032 0.19588282]\n",
      "predicted value = [0.0875 0.9125]\n",
      "loss = 0.0019140625000000058\n"
     ]
    },
    {
     "name": "stderr",
     "output_type": "stream",
     "text": [
      " 61%|██████    | 61/100 [00:14<00:08,  4.71it/s]"
     ]
    },
    {
     "name": "stdout",
     "output_type": "stream",
     "text": [
      "input_numbers = [3.33548841 0.51516369 0.18900313 0.18969563]\n",
      "predicted value = [0.0863 0.9137]\n",
      "loss = 0.001861922500000002\n"
     ]
    },
    {
     "name": "stderr",
     "output_type": "stream",
     "text": [
      " 63%|██████▎   | 63/100 [00:14<00:07,  4.75it/s]"
     ]
    },
    {
     "name": "stdout",
     "output_type": "stream",
     "text": [
      "input_numbers = [3.32938608 0.50906135 0.1829008  0.1835933 ]\n",
      "predicted value = [0.0814 0.9186]\n",
      "loss = 0.0016564900000000057\n",
      "input_numbers = [3.32363023 0.50330551 0.17714495 0.17783745]\n",
      "predicted value = [0.0808 0.9192]\n",
      "loss = 0.0016321599999999993\n"
     ]
    },
    {
     "name": "stderr",
     "output_type": "stream",
     "text": [
      " 64%|██████▍   | 64/100 [00:15<00:07,  4.71it/s]"
     ]
    },
    {
     "name": "stdout",
     "output_type": "stream",
     "text": [
      "input_numbers = [3.3179168  0.49759208 0.17143153 0.17212403]\n",
      "predicted value = [0.077 0.923]\n",
      "loss = 0.0014822499999999983\n"
     ]
    },
    {
     "name": "stderr",
     "output_type": "stream",
     "text": [
      " 66%|██████▌   | 66/100 [00:15<00:07,  4.78it/s]"
     ]
    },
    {
     "name": "stdout",
     "output_type": "stream",
     "text": [
      "input_numbers = [3.31247208 0.49214736 0.16598681 0.16667931]\n",
      "predicted value = [0.079 0.921]\n",
      "loss = 0.0015602499999999985\n"
     ]
    },
    {
     "name": "stderr",
     "output_type": "stream",
     "text": [
      " 67%|██████▋   | 67/100 [00:15<00:06,  4.81it/s]"
     ]
    },
    {
     "name": "stdout",
     "output_type": "stream",
     "text": [
      "input_numbers = [3.30688594 0.48656122 0.16040066 0.16109316]\n",
      "predicted value = [0.0807 0.9193]\n",
      "loss = 0.0016281224999999998\n",
      "input_numbers = [3.30117959 0.48085486 0.15469431 0.15538681]\n",
      "predicted value = [0.0725 0.9275]\n",
      "loss = 0.0013140625000000003\n"
     ]
    },
    {
     "name": "stderr",
     "output_type": "stream",
     "text": [
      " 69%|██████▉   | 69/100 [00:16<00:06,  4.90it/s]"
     ]
    },
    {
     "name": "stdout",
     "output_type": "stream",
     "text": [
      "input_numbers = [3.29605306 0.47572834 0.14956779 0.15026029]\n",
      "predicted value = [0.0665 0.9335]\n",
      "loss = 0.0011055625000000002\n",
      "input_numbers = [3.2913508  0.47102608 0.14486553 0.14555803]\n"
     ]
    },
    {
     "name": "stderr",
     "output_type": "stream",
     "text": [
      " 70%|███████   | 70/100 [00:16<00:06,  4.88it/s]"
     ]
    },
    {
     "name": "stdout",
     "output_type": "stream",
     "text": [
      "predicted value = [0.0661 0.9339]\n",
      "loss = 0.0010923025000000015\n",
      "input_numbers = [3.28667683 0.4663521  0.14019155 0.14088405]\n"
     ]
    },
    {
     "name": "stderr",
     "output_type": "stream",
     "text": [
      " 71%|███████   | 71/100 [00:16<00:06,  4.66it/s]"
     ]
    },
    {
     "name": "stdout",
     "output_type": "stream",
     "text": [
      "predicted value = [0.0645 0.9355]\n",
      "loss = 0.0010400625\n",
      "input_numbers = [3.28211599 0.46179127 0.13563071 0.13632321]\n"
     ]
    },
    {
     "name": "stderr",
     "output_type": "stream",
     "text": [
      " 72%|███████▏  | 72/100 [00:16<00:06,  4.66it/s]"
     ]
    },
    {
     "name": "stdout",
     "output_type": "stream",
     "text": [
      "predicted value = [0.0648 0.9352]\n",
      "loss = 0.001049759999999999\n",
      "input_numbers = [3.27753394 0.45720921 0.13104866 0.13174116]\n"
     ]
    },
    {
     "name": "stderr",
     "output_type": "stream",
     "text": [
      " 73%|███████▎  | 73/100 [00:16<00:05,  4.66it/s]"
     ]
    },
    {
     "name": "stdout",
     "output_type": "stream",
     "text": [
      "predicted value = [0.0595 0.9405]\n",
      "loss = 0.0008850624999999966\n",
      "input_numbers = [3.27332665 0.45300193 0.12684138 0.12753388]\n"
     ]
    },
    {
     "name": "stderr",
     "output_type": "stream",
     "text": [
      " 74%|███████▍  | 74/100 [00:17<00:05,  4.68it/s]"
     ]
    },
    {
     "name": "stdout",
     "output_type": "stream",
     "text": [
      "predicted value = [0.0606 0.9394]\n",
      "loss = 0.0009180899999999997\n",
      "input_numbers = [3.26904158 0.44871686 0.12255631 0.12324881]\n"
     ]
    },
    {
     "name": "stderr",
     "output_type": "stream",
     "text": [
      " 75%|███████▌  | 75/100 [00:17<00:05,  4.71it/s]"
     ]
    },
    {
     "name": "stdout",
     "output_type": "stream",
     "text": [
      "predicted value = [0.0619 0.9381]\n",
      "loss = 0.0009579024999999951\n",
      "input_numbers = [3.26466459 0.44433987 0.11817932 0.11887182]\n",
      "predicted value = [0.0551 0.9449]\n",
      "loss = 0.0007590025000000041\n"
     ]
    },
    {
     "name": "stderr",
     "output_type": "stream",
     "text": [
      " 76%|███████▌  | 76/100 [00:17<00:05,  4.57it/s]"
     ]
    },
    {
     "name": "stdout",
     "output_type": "stream",
     "text": [
      "input_numbers = [3.26076843 0.44044371 0.11428316 0.11497566]\n",
      "predicted value = [0.0575 0.9425]\n",
      "loss = 0.0008265624999999967\n"
     ]
    },
    {
     "name": "stderr",
     "output_type": "stream",
     "text": [
      " 77%|███████▋  | 77/100 [00:17<00:04,  4.67it/s]"
     ]
    },
    {
     "name": "stdout",
     "output_type": "stream",
     "text": [
      "input_numbers = [3.25670257 0.43637785 0.1102173  0.1109098 ]\n",
      "predicted value = [0.0548 0.9452]\n",
      "loss = 0.0007507599999999989\n"
     ]
    },
    {
     "name": "stderr",
     "output_type": "stream",
     "text": [
      " 78%|███████▊  | 78/100 [00:18<00:04,  4.61it/s]"
     ]
    },
    {
     "name": "stdout",
     "output_type": "stream",
     "text": [
      "input_numbers = [3.25282762 0.4325029  0.10634235 0.10703485]\n",
      "predicted value = [0.0537 0.9463]\n",
      "loss = 0.0007209224999999962\n"
     ]
    },
    {
     "name": "stderr",
     "output_type": "stream",
     "text": [
      " 79%|███████▉  | 79/100 [00:18<00:04,  4.51it/s]"
     ]
    },
    {
     "name": "stdout",
     "output_type": "stream",
     "text": [
      "input_numbers = [3.24903046 0.42870574 0.10254519 0.10323769]\n",
      "predicted value = [0.0527 0.9473]\n",
      "loss = 0.0006943224999999992\n"
     ]
    },
    {
     "name": "stderr",
     "output_type": "stream",
     "text": [
      " 80%|████████  | 80/100 [00:18<00:04,  4.40it/s]"
     ]
    },
    {
     "name": "stdout",
     "output_type": "stream",
     "text": [
      "input_numbers = [3.24530401 0.42497929 0.09881873 0.09951124]\n",
      "predicted value = [0.0509 0.9491]\n",
      "loss = 0.0006477024999999987\n"
     ]
    },
    {
     "name": "stderr",
     "output_type": "stream",
     "text": [
      " 81%|████████  | 81/100 [00:18<00:04,  4.44it/s]"
     ]
    },
    {
     "name": "stdout",
     "output_type": "stream",
     "text": [
      "input_numbers = [3.24170483 0.42138011 0.09521956 0.09591206]\n",
      "predicted value = [0.05 0.95]\n",
      "loss = 0.0006250000000000011\n"
     ]
    },
    {
     "name": "stderr",
     "output_type": "stream",
     "text": [
      " 82%|████████▏ | 82/100 [00:19<00:04,  4.40it/s]"
     ]
    },
    {
     "name": "stdout",
     "output_type": "stream",
     "text": [
      "input_numbers = [3.2381693  0.41784458 0.09168403 0.09237653]\n",
      "predicted value = [0.0522 0.9478]\n",
      "loss = 0.0006812100000000007\n"
     ]
    },
    {
     "name": "stderr",
     "output_type": "stream",
     "text": [
      " 83%|████████▎ | 83/100 [00:19<00:03,  4.33it/s]"
     ]
    },
    {
     "name": "stdout",
     "output_type": "stream",
     "text": [
      "input_numbers = [3.2344782  0.41415348 0.08799293 0.08868543]\n",
      "predicted value = [0.0517 0.9483]\n",
      "loss = 0.0006682224999999963\n"
     ]
    },
    {
     "name": "stderr",
     "output_type": "stream",
     "text": [
      " 84%|████████▍ | 84/100 [00:19<00:03,  4.37it/s]"
     ]
    },
    {
     "name": "stdout",
     "output_type": "stream",
     "text": [
      "input_numbers = [3.23082246 0.41049774 0.08433719 0.08502969]\n",
      "predicted value = [0.0523 0.9477]\n",
      "loss = 0.0006838225000000003\n"
     ]
    },
    {
     "name": "stderr",
     "output_type": "stream",
     "text": [
      " 85%|████████▌ | 85/100 [00:19<00:03,  4.38it/s]"
     ]
    },
    {
     "name": "stdout",
     "output_type": "stream",
     "text": [
      "input_numbers = [3.22712429 0.40679957 0.08063902 0.08133152]\n",
      "predicted value = [0.044 0.956]\n",
      "loss = 0.00048400000000000087\n"
     ]
    },
    {
     "name": "stderr",
     "output_type": "stream",
     "text": [
      " 86%|████████▌ | 86/100 [00:19<00:03,  4.23it/s]"
     ]
    },
    {
     "name": "stdout",
     "output_type": "stream",
     "text": [
      "input_numbers = [3.22401302 0.4036883  0.07752775 0.07822025]\n",
      "predicted value = [0.0463 0.9537]\n",
      "loss = 0.0005359225000000002\n"
     ]
    },
    {
     "name": "stderr",
     "output_type": "stream",
     "text": [
      " 87%|████████▋ | 87/100 [00:20<00:03,  4.20it/s]"
     ]
    },
    {
     "name": "stdout",
     "output_type": "stream",
     "text": [
      "input_numbers = [3.22073912 0.4004144  0.07425385 0.07494635]\n",
      "predicted value = [0.0428 0.9572]\n",
      "loss = 0.0004579599999999989\n"
     ]
    },
    {
     "name": "stderr",
     "output_type": "stream",
     "text": [
      " 88%|████████▊ | 88/100 [00:20<00:02,  4.32it/s]"
     ]
    },
    {
     "name": "stdout",
     "output_type": "stream",
     "text": [
      "input_numbers = [3.2177127  0.39738798 0.07122743 0.07191993]\n",
      "predicted value = [0.0427 0.9573]\n",
      "loss = 0.00045582249999999913\n"
     ]
    },
    {
     "name": "stderr",
     "output_type": "stream",
     "text": [
      " 89%|████████▉ | 89/100 [00:20<00:02,  4.31it/s]"
     ]
    },
    {
     "name": "stdout",
     "output_type": "stream",
     "text": [
      "input_numbers = [3.21469336 0.39436863 0.06820808 0.06890058]\n",
      "predicted value = [0.0426 0.9574]\n",
      "loss = 0.0004536899999999994\n"
     ]
    },
    {
     "name": "stderr",
     "output_type": "stream",
     "text": [
      " 90%|█████████ | 90/100 [00:20<00:02,  4.41it/s]"
     ]
    },
    {
     "name": "stdout",
     "output_type": "stream",
     "text": [
      "input_numbers = [3.21168108 0.39135636 0.06519581 0.06588831]\n",
      "predicted value = [0.039 0.961]\n",
      "loss = 0.0003802500000000028\n"
     ]
    },
    {
     "name": "stderr",
     "output_type": "stream",
     "text": [
      " 91%|█████████ | 91/100 [00:21<00:02,  4.31it/s]"
     ]
    },
    {
     "name": "stdout",
     "output_type": "stream",
     "text": [
      "input_numbers = [3.20892336 0.38859864 0.06243809 0.06313059]\n",
      "predicted value = [0.0421 0.9579]\n",
      "loss = 0.00044310250000000056\n"
     ]
    },
    {
     "name": "stderr",
     "output_type": "stream",
     "text": [
      " 92%|█████████▏| 92/100 [00:21<00:01,  4.36it/s]"
     ]
    },
    {
     "name": "stdout",
     "output_type": "stream",
     "text": [
      "input_numbers = [3.20594645 0.38562172 0.05946117 0.06015367]\n",
      "predicted value = [0.0378 0.9622]\n",
      "loss = 0.00035720999999999686\n"
     ]
    },
    {
     "name": "stderr",
     "output_type": "stream",
     "text": [
      " 93%|█████████▎| 93/100 [00:21<00:01,  4.49it/s]"
     ]
    },
    {
     "name": "stdout",
     "output_type": "stream",
     "text": [
      "input_numbers = [3.20327358 0.38294886 0.05678831 0.05748081]\n",
      "predicted value = [0.0366 0.9634]\n",
      "loss = 0.00033488999999999936\n"
     ]
    },
    {
     "name": "stderr",
     "output_type": "stream",
     "text": [
      " 94%|█████████▍| 94/100 [00:21<00:01,  4.48it/s]"
     ]
    },
    {
     "name": "stdout",
     "output_type": "stream",
     "text": [
      "input_numbers = [3.20068557 0.38036085 0.0542003  0.0548928 ]\n",
      "predicted value = [0.0379 0.9621]\n",
      "loss = 0.00035910250000000085\n"
     ]
    },
    {
     "name": "stderr",
     "output_type": "stream",
     "text": [
      " 95%|█████████▌| 95/100 [00:21<00:01,  4.34it/s]"
     ]
    },
    {
     "name": "stdout",
     "output_type": "stream",
     "text": [
      "input_numbers = [3.19800564 0.37768091 0.05152036 0.05221286]\n",
      "predicted value = [0.0356 0.9644]\n",
      "loss = 0.0003168399999999974\n"
     ]
    },
    {
     "name": "stderr",
     "output_type": "stream",
     "text": [
      " 96%|█████████▌| 96/100 [00:22<00:00,  4.46it/s]"
     ]
    },
    {
     "name": "stdout",
     "output_type": "stream",
     "text": [
      "input_numbers = [3.19548834 0.37516361 0.04900306 0.04969556]\n",
      "predicted value = [0.0356 0.9644]\n",
      "loss = 0.0003168399999999974\n"
     ]
    },
    {
     "name": "stderr",
     "output_type": "stream",
     "text": [
      " 97%|█████████▋| 97/100 [00:22<00:00,  4.44it/s]"
     ]
    },
    {
     "name": "stdout",
     "output_type": "stream",
     "text": [
      "input_numbers = [3.19297104 0.37264631 0.04648576 0.04717826]\n",
      "predicted value = [0.0384 0.9616]\n",
      "loss = 0.0003686399999999998\n"
     ]
    },
    {
     "name": "stderr",
     "output_type": "stream",
     "text": [
      " 98%|█████████▊| 98/100 [00:22<00:00,  4.18it/s]"
     ]
    },
    {
     "name": "stdout",
     "output_type": "stream",
     "text": [
      "input_numbers = [3.19025575 0.36993102 0.04377047 0.04446297]\n",
      "predicted value = [0.0354 0.9646]\n",
      "loss = 0.0003132899999999978\n"
     ]
    },
    {
     "name": "stderr",
     "output_type": "stream",
     "text": [
      " 99%|█████████▉| 99/100 [00:23<00:00,  3.91it/s]"
     ]
    },
    {
     "name": "stdout",
     "output_type": "stream",
     "text": [
      "input_numbers = [3.18775259 0.36742787 0.04126731 0.04195982]\n",
      "predicted value = [0.0377 0.9623]\n",
      "loss = 0.00035532249999999706\n"
     ]
    },
    {
     "name": "stderr",
     "output_type": "stream",
     "text": [
      "100%|██████████| 100/100 [00:23<00:00,  4.30it/s]\n"
     ]
    }
   ],
   "source": [
    "q_params = get_initial_params(NUM_QUBITS)\n",
    "#print(q_params)\n",
    "\n",
    "loss_list = []\n",
    "expval_list = []\n",
    "\n",
    "for i in tqdm(range(NUM_EPOCHS)):\n",
    "    loss, d_loss, expval = cost(NUM_QUBITS, BACKEND, NUM_SHOTS, q_params)\n",
    "    dQ = backward(NUM_QUBITS, BACKEND, NUM_SHOTS, q_params, d_loss)\n",
    "    for i in range(NUM_QUBITS):\n",
    "        q_params[i] += LEARNING_RATE * dQ[i]\n",
    "    loss_list.append(loss)\n",
    "    expval_list.append(expval[1])\n"
   ]
  },
  {
   "cell_type": "code",
   "execution_count": 37,
   "id": "324617c9",
   "metadata": {},
   "outputs": [
    {
     "data": {
      "image/png": "[encoded data removed]",
      "text/plain": [
       "<Figure size 432x288 with 2 Axes>"
      ]
     },
     "metadata": {
      "needs_background": "light"
     },
     "output_type": "display_data"
    }
   ],
   "source": [
    "fig, (ax1, ax2) = plt.subplots(2, 1)\n",
    "\n",
    "ax1.plot(loss_list, 'r')\n",
    "ax1.set_xlabel(\"epochs\")\n",
    "ax1.set_ylabel(\"loss\")\n",
    "\n",
    "ax2.plot(expval_list, 'b')\n",
    "ax2.set_xlabel('epochs')\n",
    "ax2.set_ylabel('prediction')\n",
    "\n",
    "plt.show()"
   ]
  },
  {
   "cell_type": "code",
   "execution_count": null,
   "id": "99d7f92b",
   "metadata": {},
   "outputs": [],
   "source": []
  }
 ],
 "metadata": {
  "kernelspec": {
   "display_name": "venv",
   "language": "python",
   "name": "python3"
  },
  "language_info": {
   "codemirror_mode": {
    "name": "ipython",
    "version": 3
   },
   "file_extension": ".py",
   "mimetype": "text/x-python",
   "name": "python",
   "nbconvert_exporter": "python",
   "pygments_lexer": "ipython3",
   "version": "3.10.11"
  },
  "widgets": {
   "application/vnd.jupyter.widget-state+json": {
    "state": {},
    "version_major": 2,
    "version_minor": 0
   }
  }
 },
 "nbformat": 4,
 "nbformat_minor": 5
}
